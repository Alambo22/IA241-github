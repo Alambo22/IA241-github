{
 "cells": [
  {
   "cell_type": "markdown",
   "id": "3fb41762",
   "metadata": {},
   "source": [
    "# Lab 11. Download Census Data into Python"
   ]
  },
  {
   "cell_type": "code",
   "execution_count": null,
   "id": "daa79434",
   "metadata": {},
   "outputs": [],
   "source": []
  },
  {
   "cell_type": "code",
   "execution_count": null,
   "id": "d7a03a0f",
   "metadata": {},
   "outputs": [],
   "source": []
  },
  {
   "cell_type": "code",
   "execution_count": null,
   "id": "2b03abce",
   "metadata": {},
   "outputs": [],
   "source": []
  },
  {
   "cell_type": "code",
   "execution_count": null,
   "id": "4270c669",
   "metadata": {},
   "outputs": [],
   "source": []
  },
  {
   "cell_type": "markdown",
   "id": "7956f5ed",
   "metadata": {},
   "source": [
    "## 3.1 county with most total population"
   ]
  },
  {
   "cell_type": "code",
   "execution_count": 8,
   "id": "38bb7457",
   "metadata": {},
   "outputs": [
    {
     "name": "stdout",
     "output_type": "stream",
     "text": [
      "The Fairfax County, Virginia county has the biggest population 1145862.\n"
     ]
    }
   ],
   "source": [
    "url_str = 'https://api.census.gov/data/2019/acs/acs5?get=B01001_001E,NAME&for=county:*&in=state:51&key='+census_api_key # create the url of your census data\n",
    "\n",
    "response = request.urlopen(url_str) # read the response into computer\n",
    "\n",
    "html_str = response.read().decode(\"utf-8\") # convert the response into string\n",
    "max_p = 0\n",
    "max_county= ''\n",
    "if (html_str):\n",
    "    json_data = json.loads(html_str) # convert the string into json\n",
    "  #  print (json_data[0])\n",
    "    for v1,name,state,county in json_data[1:]:\n",
    "        if max_p< int(v1):\n",
    "            max_p = int(v1)\n",
    "            max_county = name\n",
    "       # print (v1,name,state,county )\n",
    "    \n",
    "print(\"The {} county has the biggest population {}.\".format(max_county,max_p))\n",
    "\n"
   ]
  },
  {
   "cell_type": "markdown",
   "id": "f9792d65",
   "metadata": {},
   "source": [
    "## 3.2 county with the most male population"
   ]
  },
  {
   "cell_type": "code",
   "execution_count": 9,
   "id": "f87995fe",
   "metadata": {},
   "outputs": [
    {
     "name": "stdout",
     "output_type": "stream",
     "text": [
      "The Fairfax County, Virginia county has the biggest male population 568173.\n"
     ]
    }
   ],
   "source": [
    "url_str = 'https://api.census.gov/data/2019/acs/acs5?get=B01001_002E,NAME&for=county:*&in=state:51&key='+census_api_key # create the url of your census data\n",
    "\n",
    "response = request.urlopen(url_str) # read the response into computer\n",
    "\n",
    "html_str = response.read().decode(\"utf-8\") # convert the response into string\n",
    "max_p = 0\n",
    "max_county= ''\n",
    "if (html_str):\n",
    "    json_data = json.loads(html_str) # convert the string into json\n",
    "  #  print (json_data[0])\n",
    "    for v1,name,state,county in json_data[1:]:\n",
    "        if max_p< int(v1):\n",
    "            max_p = int(v1)\n",
    "            max_county = name\n",
    "       # print (v1,name,state,county )\n",
    "    \n",
    "print(\"The {} county has the biggest male population {}.\".format(max_county,max_p))\n"
   ]
  },
  {
   "cell_type": "markdown",
   "id": "8fbfec26",
   "metadata": {},
   "source": [
    "## 3.3 county with the highest male/ total population ratio"
   ]
  },
  {
   "cell_type": "code",
   "execution_count": 12,
   "id": "5d959d61",
   "metadata": {},
   "outputs": [
    {
     "name": "stdout",
     "output_type": "stream",
     "text": [
      "The Greensville County, Virginia county has the highest male/ total population ratio 0.629587852494577.\n"
     ]
    }
   ],
   "source": [
    "url_str = 'https://api.census.gov/data/2019/acs/acs5?get=B01001_001E,B01001_002E,NAME&for=county:*&in=state:51&key='+census_api_key # create the url of your census data\n",
    "\n",
    "response = request.urlopen(url_str) # read the response into computer\n",
    "\n",
    "html_str = response.read().decode(\"utf-8\") # convert the response into string\n",
    "max_p = 0\n",
    "max_county= ''\n",
    "if (html_str):\n",
    "    json_data = json.loads(html_str) # convert the string into json\n",
    "  #  print (json_data[0])\n",
    "    for v1,v2,name,state,county in json_data[1:]:\n",
    "        if max_p< int(v2)/int(v1):\n",
    "            max_p = int(v2)/ int(v1)\n",
    "            max_county = name\n",
    "       # print (v1,name,state,county )\n",
    "    \n",
    "print(\"The {} county has the highest male/ total population ratio {}.\".format(max_county,max_p))\n"
   ]
  },
  {
   "cell_type": "code",
   "execution_count": null,
   "id": "9de9e23e",
   "metadata": {},
   "outputs": [],
   "source": []
  }
 ],
 "metadata": {
  "kernelspec": {
   "display_name": "conda_python3",
   "language": "python",
   "name": "conda_python3"
  },
  "language_info": {
   "codemirror_mode": {
    "name": "ipython",
    "version": 3
   },
   "file_extension": ".py",
   "mimetype": "text/x-python",
   "name": "python",
   "nbconvert_exporter": "python",
   "pygments_lexer": "ipython3",
   "version": "3.6.13"
  }
 },
 "nbformat": 4,
 "nbformat_minor": 5
}
