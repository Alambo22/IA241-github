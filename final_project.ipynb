{
 "cells": [
  {
   "cell_type": "markdown",
   "id": "6852b894",
   "metadata": {},
   "source": [
    "# Analyzing COVID-19 Data in Greece \n",
    "## COVID-19 Background\n",
    "### COVID-19 originated  in 2019 and has been declared a pandemic. Since then, all nations around the world have been infected with the virus. This notebook will be analyzing COVID-19 data in Greece. \n",
    "\n",
    "## Author information\n",
    "#### Author: Athena Lambropoulos, JMU Intelligence Analyst"
   ]
  },
  {
   "cell_type": "markdown",
   "id": "36b1e0be",
   "metadata": {},
   "source": [
    "## Data Source"
   ]
  },
  {
   "cell_type": "markdown",
   "id": "5f5bbc3d",
   "metadata": {},
   "source": [
    "The data is from [European Centre for Diease Prevention and Control](https://www.ecdc.europa.eu/en/publications-data/download-todays-data-geographic-distribution-covid-19-cases-worldwide)"
   ]
  },
  {
   "cell_type": "code",
   "execution_count": 3,
   "id": "d0491fa5",
   "metadata": {},
   "outputs": [],
   "source": [
    "%matplotlib inline \n",
    "import pandas"
   ]
  },
  {
   "cell_type": "markdown",
   "id": "89700d3c",
   "metadata": {},
   "source": [
    "## The data \n",
    "### Here is a general overview of the COVID-19 data in my S3 bucket"
   ]
  },
  {
   "cell_type": "code",
   "execution_count": 6,
   "id": "22fc1934",
   "metadata": {},
   "outputs": [
    {
     "data": {
      "text/html": [
       "<div>\n",
       "<style scoped>\n",
       "    .dataframe tbody tr th:only-of-type {\n",
       "        vertical-align: middle;\n",
       "    }\n",
       "\n",
       "    .dataframe tbody tr th {\n",
       "        vertical-align: top;\n",
       "    }\n",
       "\n",
       "    .dataframe thead th {\n",
       "        text-align: right;\n",
       "    }\n",
       "</style>\n",
       "<table border=\"1\" class=\"dataframe\">\n",
       "  <thead>\n",
       "    <tr style=\"text-align: right;\">\n",
       "      <th></th>\n",
       "      <th>dateRep</th>\n",
       "      <th>day</th>\n",
       "      <th>month</th>\n",
       "      <th>year</th>\n",
       "      <th>cases</th>\n",
       "      <th>deaths</th>\n",
       "      <th>countriesAndTerritories</th>\n",
       "      <th>geoId</th>\n",
       "      <th>countryterritoryCode</th>\n",
       "      <th>popData2019</th>\n",
       "      <th>continentExp</th>\n",
       "      <th>Cumulative_number_for_14_days_of_COVID-19_cases_per_100000</th>\n",
       "    </tr>\n",
       "  </thead>\n",
       "  <tbody>\n",
       "    <tr>\n",
       "      <th>22776</th>\n",
       "      <td>14/12/2020</td>\n",
       "      <td>14</td>\n",
       "      <td>12</td>\n",
       "      <td>2020</td>\n",
       "      <td>692</td>\n",
       "      <td>85</td>\n",
       "      <td>Greece</td>\n",
       "      <td>EL</td>\n",
       "      <td>GRC</td>\n",
       "      <td>10724599.0</td>\n",
       "      <td>Europe</td>\n",
       "      <td>189.349737</td>\n",
       "    </tr>\n",
       "    <tr>\n",
       "      <th>22777</th>\n",
       "      <td>13/12/2020</td>\n",
       "      <td>13</td>\n",
       "      <td>12</td>\n",
       "      <td>2020</td>\n",
       "      <td>1194</td>\n",
       "      <td>68</td>\n",
       "      <td>Greece</td>\n",
       "      <td>EL</td>\n",
       "      <td>GRC</td>\n",
       "      <td>10724599.0</td>\n",
       "      <td>Europe</td>\n",
       "      <td>194.021240</td>\n",
       "    </tr>\n",
       "    <tr>\n",
       "      <th>22778</th>\n",
       "      <td>2020-12-12 00:00:00</td>\n",
       "      <td>12</td>\n",
       "      <td>12</td>\n",
       "      <td>2020</td>\n",
       "      <td>1395</td>\n",
       "      <td>102</td>\n",
       "      <td>Greece</td>\n",
       "      <td>EL</td>\n",
       "      <td>GRC</td>\n",
       "      <td>10724599.0</td>\n",
       "      <td>Europe</td>\n",
       "      <td>199.177610</td>\n",
       "    </tr>\n",
       "    <tr>\n",
       "      <th>22779</th>\n",
       "      <td>2020-11-12 00:00:00</td>\n",
       "      <td>11</td>\n",
       "      <td>12</td>\n",
       "      <td>2020</td>\n",
       "      <td>1533</td>\n",
       "      <td>81</td>\n",
       "      <td>Greece</td>\n",
       "      <td>EL</td>\n",
       "      <td>GRC</td>\n",
       "      <td>10724599.0</td>\n",
       "      <td>Europe</td>\n",
       "      <td>204.641684</td>\n",
       "    </tr>\n",
       "    <tr>\n",
       "      <th>22780</th>\n",
       "      <td>2020-10-12 00:00:00</td>\n",
       "      <td>10</td>\n",
       "      <td>12</td>\n",
       "      <td>2020</td>\n",
       "      <td>1675</td>\n",
       "      <td>95</td>\n",
       "      <td>Greece</td>\n",
       "      <td>EL</td>\n",
       "      <td>GRC</td>\n",
       "      <td>10724599.0</td>\n",
       "      <td>Europe</td>\n",
       "      <td>209.163998</td>\n",
       "    </tr>\n",
       "    <tr>\n",
       "      <th>22781</th>\n",
       "      <td>2020-09-12 00:00:00</td>\n",
       "      <td>9</td>\n",
       "      <td>12</td>\n",
       "      <td>2020</td>\n",
       "      <td>1324</td>\n",
       "      <td>102</td>\n",
       "      <td>Greece</td>\n",
       "      <td>EL</td>\n",
       "      <td>GRC</td>\n",
       "      <td>10724599.0</td>\n",
       "      <td>Europe</td>\n",
       "      <td>213.602392</td>\n",
       "    </tr>\n",
       "    <tr>\n",
       "      <th>22782</th>\n",
       "      <td>2020-08-12 00:00:00</td>\n",
       "      <td>8</td>\n",
       "      <td>12</td>\n",
       "      <td>2020</td>\n",
       "      <td>1250</td>\n",
       "      <td>89</td>\n",
       "      <td>Greece</td>\n",
       "      <td>EL</td>\n",
       "      <td>GRC</td>\n",
       "      <td>10724599.0</td>\n",
       "      <td>Europe</td>\n",
       "      <td>221.127149</td>\n",
       "    </tr>\n",
       "    <tr>\n",
       "      <th>22783</th>\n",
       "      <td>2020-07-12 00:00:00</td>\n",
       "      <td>7</td>\n",
       "      <td>12</td>\n",
       "      <td>2020</td>\n",
       "      <td>903</td>\n",
       "      <td>101</td>\n",
       "      <td>Greece</td>\n",
       "      <td>EL</td>\n",
       "      <td>GRC</td>\n",
       "      <td>10724599.0</td>\n",
       "      <td>Europe</td>\n",
       "      <td>222.404586</td>\n",
       "    </tr>\n",
       "    <tr>\n",
       "      <th>22784</th>\n",
       "      <td>2020-06-12 00:00:00</td>\n",
       "      <td>6</td>\n",
       "      <td>12</td>\n",
       "      <td>2020</td>\n",
       "      <td>1383</td>\n",
       "      <td>98</td>\n",
       "      <td>Greece</td>\n",
       "      <td>EL</td>\n",
       "      <td>GRC</td>\n",
       "      <td>10724599.0</td>\n",
       "      <td>Europe</td>\n",
       "      <td>227.952579</td>\n",
       "    </tr>\n",
       "    <tr>\n",
       "      <th>22785</th>\n",
       "      <td>2020-05-12 00:00:00</td>\n",
       "      <td>5</td>\n",
       "      <td>12</td>\n",
       "      <td>2020</td>\n",
       "      <td>1648</td>\n",
       "      <td>98</td>\n",
       "      <td>Greece</td>\n",
       "      <td>EL</td>\n",
       "      <td>GRC</td>\n",
       "      <td>10724599.0</td>\n",
       "      <td>Europe</td>\n",
       "      <td>236.586934</td>\n",
       "    </tr>\n",
       "  </tbody>\n",
       "</table>\n",
       "</div>"
      ],
      "text/plain": [
       "                   dateRep  day  month  year  cases  deaths  \\\n",
       "22776           14/12/2020   14     12  2020    692      85   \n",
       "22777           13/12/2020   13     12  2020   1194      68   \n",
       "22778  2020-12-12 00:00:00   12     12  2020   1395     102   \n",
       "22779  2020-11-12 00:00:00   11     12  2020   1533      81   \n",
       "22780  2020-10-12 00:00:00   10     12  2020   1675      95   \n",
       "22781  2020-09-12 00:00:00    9     12  2020   1324     102   \n",
       "22782  2020-08-12 00:00:00    8     12  2020   1250      89   \n",
       "22783  2020-07-12 00:00:00    7     12  2020    903     101   \n",
       "22784  2020-06-12 00:00:00    6     12  2020   1383      98   \n",
       "22785  2020-05-12 00:00:00    5     12  2020   1648      98   \n",
       "\n",
       "      countriesAndTerritories geoId countryterritoryCode  popData2019  \\\n",
       "22776                  Greece    EL                  GRC   10724599.0   \n",
       "22777                  Greece    EL                  GRC   10724599.0   \n",
       "22778                  Greece    EL                  GRC   10724599.0   \n",
       "22779                  Greece    EL                  GRC   10724599.0   \n",
       "22780                  Greece    EL                  GRC   10724599.0   \n",
       "22781                  Greece    EL                  GRC   10724599.0   \n",
       "22782                  Greece    EL                  GRC   10724599.0   \n",
       "22783                  Greece    EL                  GRC   10724599.0   \n",
       "22784                  Greece    EL                  GRC   10724599.0   \n",
       "22785                  Greece    EL                  GRC   10724599.0   \n",
       "\n",
       "      continentExp  Cumulative_number_for_14_days_of_COVID-19_cases_per_100000  \n",
       "22776       Europe                                         189.349737           \n",
       "22777       Europe                                         194.021240           \n",
       "22778       Europe                                         199.177610           \n",
       "22779       Europe                                         204.641684           \n",
       "22780       Europe                                         209.163998           \n",
       "22781       Europe                                         213.602392           \n",
       "22782       Europe                                         221.127149           \n",
       "22783       Europe                                         222.404586           \n",
       "22784       Europe                                         227.952579           \n",
       "22785       Europe                                         236.586934           "
      ]
     },
     "execution_count": 6,
     "metadata": {},
     "output_type": "execute_result"
    }
   ],
   "source": [
    "df = pandas.read_excel('s3://lambo-ia241-bucket/covid_data.xls')\n",
    "greece_data = df.loc[df['countriesAndTerritories'] == 'Greece']\n",
    "greece_data[:10] #top 10 rows"
   ]
  },
  {
   "cell_type": "markdown",
   "id": "433b768d",
   "metadata": {},
   "source": [
    "## The top 3 questions I will be answering today are:\n",
    "### 1. In what month did Greece have the most deaths in 2020?\n",
    "### 2. What month had the most cases of COVID-19 in Greece in 2020?\n",
    "### 3. How does the number of cases in Greece relate to the number of deaths in the country?"
   ]
  },
  {
   "cell_type": "markdown",
   "id": "8115e24c",
   "metadata": {},
   "source": [
    "# Question 1:  In what month did Greece have the most deaths in 2020?"
   ]
  },
  {
   "cell_type": "code",
   "execution_count": 13,
   "id": "e86a4b85",
   "metadata": {},
   "outputs": [],
   "source": [
    "sum_deaths_per_month = greece_data.groupby('month').sum()['deaths']\n"
   ]
  },
  {
   "cell_type": "code",
   "execution_count": 14,
   "id": "97fcfe2d",
   "metadata": {},
   "outputs": [
    {
     "data": {
      "text/plain": [
       "<AxesSubplot:xlabel='month'>"
      ]
     },
     "execution_count": 14,
     "metadata": {},
     "output_type": "execute_result"
    },
    {
     "data": {
      "image/png": "[encoded data removed]",
      "text/plain": [
       "<Figure size 432x288 with 1 Axes>"
      ]
     },
     "metadata": {
      "needs_background": "light"
     },
     "output_type": "display_data"
    }
   ],
   "source": [
    "sum_deaths_per_month.plot()\n"
   ]
  },
  {
   "cell_type": "markdown",
   "id": "dd6bc9e8",
   "metadata": {},
   "source": [
    "### This data shows that Greece faced the most deaths during month 11 in 2020"
   ]
  },
  {
   "cell_type": "markdown",
   "id": "2d091933",
   "metadata": {},
   "source": [
    "# Question 2: What month had the most cases of COVID-19 in Greece in 2020?\n"
   ]
  },
  {
   "cell_type": "code",
   "execution_count": 22,
   "id": "e4d6e90f",
   "metadata": {},
   "outputs": [],
   "source": [
    "sum_cases_per_month = greece_data.groupby('month').sum()['cases']"
   ]
  },
  {
   "cell_type": "code",
   "execution_count": 23,
   "id": "9d5e17a9",
   "metadata": {},
   "outputs": [
    {
     "data": {
      "text/plain": [
       "<AxesSubplot:xlabel='month'>"
      ]
     },
     "execution_count": 23,
     "metadata": {},
     "output_type": "execute_result"
    },
    {
     "data": {
      "image/png": "[encoded data removed]",
      "text/plain": [
       "<Figure size 432x288 with 1 Axes>"
      ]
     },
     "metadata": {
      "needs_background": "light"
     },
     "output_type": "display_data"
    }
   ],
   "source": [
    "sum_cases_per_month.plot()"
   ]
  },
  {
   "cell_type": "markdown",
   "id": "367cc24c",
   "metadata": {},
   "source": [
    "### As shown in the graph, November of 2020 in Greece had the most confirmed COVID-19 cases."
   ]
  },
  {
   "cell_type": "markdown",
   "id": "305590ea",
   "metadata": {},
   "source": [
    "# Question 3: How does the number of cases in Greece relate to the number of deaths in the country?"
   ]
  },
  {
   "cell_type": "code",
   "execution_count": 54,
   "id": "2c1c66e5",
   "metadata": {},
   "outputs": [
    {
     "data": {
      "text/plain": [
       "<AxesSubplot:xlabel='cases', ylabel='deaths'>"
      ]
     },
     "execution_count": 54,
     "metadata": {},
     "output_type": "execute_result"
    },
    {
     "data": {
      "image/png": "[encoded data removed]",
      "text/plain": [
       "<Figure size 432x288 with 1 Axes>"
      ]
     },
     "metadata": {
      "needs_background": "light"
     },
     "output_type": "display_data"
    }
   ],
   "source": [
    "greece_data.plot.scatter(x = 'cases', y = 'deaths')"
   ]
  },
  {
   "cell_type": "markdown",
   "id": "30261e3f",
   "metadata": {},
   "source": [
    "### This scatter plot shows that when there is an increase of cases, there is an increase in deaths. When the number of cases is lower, there are less deaths in Greece."
   ]
  },
  {
   "cell_type": "markdown",
   "id": "0df56803",
   "metadata": {},
   "source": [
    "# Explanation of calculations:\n",
    "### Q1: greece_data.groupby('month').sum()['deaths'] added all of the deaths per month and it allows me to be able to figure out which month has the most deaths \n",
    "### Q2: greece_data.groupby('month').sum()['cases'] allows me to add all the cases per month and then shows me which month has the most cases \n",
    "### Q3: greece_data.plot.scatter(x = 'cases', y = 'deaths') simply puts the variables into x and y values on a data plotting chart to show how the data is distributed and helps to find a trend\n",
    "\n",
    "# Conclusion:\n",
    "## To conclude, COVID-19 has impacted many countries around the world. This was an analysis on Greeces 2020 COVID-19 cases and deaths. The project was only limited to 2020 data, therefore no 2021 and 2022 data were included in this data pool. Next time, I would like to compare two countries COVID-19 data next to one another to compare and contrast how the pandemic impacted them. \n"
   ]
  },
  {
   "cell_type": "code",
   "execution_count": null,
   "id": "8c265958",
   "metadata": {},
   "outputs": [],
   "source": []
  }
 ],
 "metadata": {
  "kernelspec": {
   "display_name": "conda_python3",
   "language": "python",
   "name": "conda_python3"
  },
  "language_info": {
   "codemirror_mode": {
    "name": "ipython",
    "version": 3
   },
   "file_extension": ".py",
   "mimetype": "text/x-python",
   "name": "python",
   "nbconvert_exporter": "python",
   "pygments_lexer": "ipython3",
   "version": "3.6.13"
  }
 },
 "nbformat": 4,
 "nbformat_minor": 5
}
